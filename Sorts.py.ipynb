{
  "nbformat": 4,
  "nbformat_minor": 0,
  "metadata": {
    "colab": {
      "name": "Untitled",
      "provenance": []
    },
    "kernelspec": {
      "name": "python3",
      "display_name": "Python 3"
    }
  },
  "cells": [
    {
      "cell_type": "code",
      "metadata": {
        "id": "Bi23FB7Kad9m",
        "colab_type": "code",
        "outputId": "db435aeb-527a-4d62-c95c-2a5b7780b338",
        "colab": {
          "base_uri": "https://localhost:8080/",
          "height": 102
        }
      },
      "source": [
        "def insertionSort(A):\n",
        "  length=len(A)\n",
        "\n",
        "  for j in range(1,length):\n",
        "    key=A[j]\n",
        "    i=j-1\n",
        "    while i>-1 and A[i]>key:\n",
        "      A[i+1]=A[i]\n",
        "      i=i-1\n",
        "    A[i+1]=key\n",
        "\n",
        "  print(A)\n",
        "\n",
        "\n",
        "  # write down the algo of selection sort\n",
        "def selectionSort(B):\n",
        "  for i in range(len(B)):\n",
        "    min=i\n",
        "    for j in range(i+1,len(B)):\n",
        "      if B[i]>B[j]:\n",
        "        min=j\n",
        "    B[i],B[min]=B[min],B[i]\n",
        "\n",
        "  print(B)\n",
        "\n",
        "\n",
        "  # write down the algo of bubble sort\n",
        "def bubbleSort(C):\n",
        "  for i in range(len(C)):\n",
        "    for j in range(0,len(C)-1-i):\n",
        "      if C[j]>C[j+1]:\n",
        "        C[j],C[j+1]=C[j+1],C[j]\n",
        "  print(C)\n",
        "\n",
        "  \n",
        "\n",
        "# write down the algo of merge sort\n",
        "def merge_sort(E):\n",
        "    if len(E)==1:\n",
        "        return E\n",
        "    middle=len(E)//2\n",
        "    left_data=merge_sort(E[:middle])\n",
        "    right_data=merge_sort(E[middle:])\n",
        "    return merge(left_data,right_data)\n",
        "\n",
        "def merge(left,right):\n",
        "    result=[] \n",
        "    i,j=0,0\n",
        "    while i<len(left) and j<len(right):\n",
        "        if left[i] < right[j]:\n",
        "            result.append(left[i])\n",
        "            i+=1\n",
        "        else:\n",
        "            result.append(right[j])\n",
        "            j+=1\n",
        "    result.extend(left[i:])  \n",
        "    result.extend(right[j:])\n",
        "    return result\n",
        "\n",
        " # write down the algo of counting sort\n",
        "def counting_sort(D, maxval):\n",
        "    \n",
        "    n = len(D)\n",
        "    m = maxval + 1\n",
        "    count = [0] * m               \n",
        "    for a in D:\n",
        "        count[a] += 1              \n",
        "    i = 0\n",
        "    for a in range(m):            \n",
        "        for c in range(count[a]): \n",
        "            D[i] = a\n",
        "            i += 1\n",
        "    print(D) \n",
        "A=[12,13,23,14,34,11]\n",
        "B=[33,55,44,22,11,66]\n",
        "C=[99,88,12,23,45,11]\n",
        "D=[1, 4, 7, 2, 1, 3, 2, 1, 4, 2, 3, 2, 1]\n",
        "E=[10,30,20,40,60,50]\n",
        "\n",
        "insertionSort(A)\n",
        "selectionSort(B)\n",
        "bubbleSort(C)\n",
        "print(merge_sort(E))\n",
        "counting_sort(D, 7 )\n"
      ],
      "execution_count": 40,
      "outputs": [
        {
          "output_type": "stream",
          "text": [
            "[11, 12, 13, 14, 23, 34]\n",
            "[11, 33, 22, 44, 55, 66]\n",
            "[11, 12, 23, 45, 88, 99]\n",
            "[10, 20, 30, 40, 50, 60]\n",
            "[1, 1, 1, 1, 2, 2, 2, 2, 3, 3, 4, 4, 7]\n"
          ],
          "name": "stdout"
        }
      ]
    }
  ]
}